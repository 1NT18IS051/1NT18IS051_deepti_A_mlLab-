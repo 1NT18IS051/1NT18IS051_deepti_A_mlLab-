{
 "cells": [
  {
   "cell_type": "code",
   "execution_count": 28,
   "metadata": {},
   "outputs": [
    {
     "name": "stdout",
     "output_type": "stream",
     "text": [
      "0      3.393774\n",
      "1      2.698951\n",
      "2      6.267196\n",
      "3      4.459272\n",
      "4      3.095158\n",
      "        ...    \n",
      "92     3.108162\n",
      "93     2.433740\n",
      "94     5.998524\n",
      "95    12.083712\n",
      "96     2.590624\n",
      "Name: x, Length: 97, dtype: float64\n"
     ]
    },
    {
     "data": {
      "image/png": "[encoded data removed]",
      "text/plain": [
       "<Figure size 432x288 with 1 Axes>"
      ]
     },
     "metadata": {
      "needs_background": "light"
     },
     "output_type": "display_data"
    }
   ],
   "source": [
    "import numpy as np\n",
    "import pandas as pd\n",
    "import matplotlib.pyplot as plot\n",
    "import statistics as st\n",
    "\n",
    "from scipy.stats import pearsonr\n",
    "\n",
    "col_names=['x','y']\n",
    "data=pd.read_csv(\"Food-Truck-LineReg.csv\",names=col_names)\n",
    "x_std=st.stdev(data.x)\n",
    "y_std=st.stdev(data.y)\n",
    "corr,_=pearsonr(data.x,data.y)\n",
    "\n",
    "slope=corr*(y_std/x_std)\n",
    "\n",
    "mean_x=st.mean(data.x)\n",
    "mean_y=st.mean(data.y)\n",
    "\n",
    "c=mean_y-(slope*mean_x)\n",
    "\n",
    "pred_y=(slope*data.x)+c\n",
    "print(pred_y)\n",
    "\n",
    "plot.scatter(data.x,data.y,color=\"g\")\n",
    "plot.plot(data.x,pred_y)\n",
    "plot.show()\n",
    "\n",
    "\n"
   ]
  },
  {
   "cell_type": "code",
   "execution_count": 30,
   "metadata": {},
   "outputs": [
    {
     "name": "stdout",
     "output_type": "stream",
     "text": [
      "0     14.198226\n",
      "1      6.431249\n",
      "2      7.394804\n",
      "3      7.394728\n",
      "4      3.728142\n",
      "        ...    \n",
      "92     4.094738\n",
      "93    -0.446840\n",
      "94    -5.853984\n",
      "95    -3.028612\n",
      "96    -1.973574\n",
      "Length: 97, dtype: float64\n"
     ]
    }
   ],
   "source": [
    "#cost\n",
    "cost=data.y-pred_y\n",
    "print(cost)"
   ]
  },
  {
   "cell_type": "code",
   "execution_count": 35,
   "metadata": {},
   "outputs": [
    {
     "name": "stdout",
     "output_type": "stream",
     "text": [
      "2046.3146047180394\n"
     ]
    }
   ],
   "source": [
    "#ssr\n",
    "d1=(pred_y-mean_y)**2\n",
    "ssr=sum(d1)\n",
    "print(ssr)"
   ]
  },
  {
   "cell_type": "code",
   "execution_count": 33,
   "metadata": {},
   "outputs": [
    {
     "name": "stdout",
     "output_type": "stream",
     "text": [
      "868.5324469391844\n"
     ]
    }
   ],
   "source": [
    "#sse\n",
    "d=(data.y-pred_y)**2\n",
    "sse=sum(d)\n",
    "print(sse)"
   ]
  },
  {
   "cell_type": "code",
   "execution_count": 36,
   "metadata": {},
   "outputs": [
    {
     "name": "stdout",
     "output_type": "stream",
     "text": [
      "2914.8470516572247\n"
     ]
    }
   ],
   "source": [
    "#sst\n",
    "d2=(data.y-mean_y)**2\n",
    "sst=sum(d2)\n",
    "print(sst)"
   ]
  },
  {
   "cell_type": "code",
   "execution_count": 37,
   "metadata": {},
   "outputs": [
    {
     "name": "stdout",
     "output_type": "stream",
     "text": [
      "0.7020315537841395\n"
     ]
    }
   ],
   "source": [
    "#r2\n",
    "r=ssr/sst\n",
    "print(r)"
   ]
  },
  {
   "cell_type": "code",
   "execution_count": null,
   "metadata": {},
   "outputs": [],
   "source": []
  }
 ],
 "metadata": {
  "kernelspec": {
   "display_name": "Python 3",
   "language": "python",
   "name": "python3"
  },
  "language_info": {
   "codemirror_mode": {
    "name": "ipython",
    "version": 3
   },
   "file_extension": ".py",
   "mimetype": "text/x-python",
   "name": "python",
   "nbconvert_exporter": "python",
   "pygments_lexer": "ipython3",
   "version": "3.8.5"
  }
 },
 "nbformat": 4,
 "nbformat_minor": 4
}
